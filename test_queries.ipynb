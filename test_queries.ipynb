{
 "cells": [
  {
   "cell_type": "markdown",
   "metadata": {
    "editable": true
   },
   "source": [
    "This notebook checks that the data looks correct in the tabes and runs some sample analytics queries."
   ]
  },
  {
   "cell_type": "code",
   "execution_count": 1,
   "metadata": {
    "editable": true
   },
   "outputs": [],
   "source": [
    "import configparser\n",
    "import psycopg2"
   ]
  },
  {
   "cell_type": "code",
   "execution_count": 2,
   "metadata": {
    "editable": true
   },
   "outputs": [],
   "source": [
    "config = configparser.ConfigParser()"
   ]
  },
  {
   "cell_type": "code",
   "execution_count": 3,
   "metadata": {
    "editable": true
   },
   "outputs": [],
   "source": [
    "# reload config file with ARN and endpoint updated\n",
    "config.read_file(open('dwh.cfg'))"
   ]
  },
  {
   "cell_type": "code",
   "execution_count": 4,
   "metadata": {
    "editable": true
   },
   "outputs": [],
   "source": [
    "conn = psycopg2.connect(\"host={} dbname={} user={} password={} port={}\".format(*config['CLUSTER'].values()))\n",
    "cur = conn.cursor()"
   ]
  },
  {
   "cell_type": "code",
   "execution_count": 5,
   "metadata": {
    "editable": true
   },
   "outputs": [],
   "source": [
    "tables = ['staging_events', 'staging_songs', 'songplays', 'users', 'songs', 'artists', 'time']"
   ]
  },
  {
   "cell_type": "code",
   "execution_count": 6,
   "metadata": {
    "editable": true
   },
   "outputs": [
    {
     "name": "stdout",
     "output_type": "stream",
     "text": [
      "table: staging_events\n",
      "number of rows:  8056\n",
      "(None, 'Logged In', 'Adler', 'M', 0, 'Barrera', None, 'free', 'New York-Newark-Jersey City, NY-NJ-PA', 'GET', 'Home', Decimal('1540835983796'), 248, None, 200, 1541470364796, '\"Mozilla/5.0 (Macintosh; Intel Mac OS X 10_9_4) AppleWebKit/537.78.2 (KHTML, like Gecko) Version/7.0.6 Safari/537.78.2\"', 100)\n",
      "('Gustavo Cerati', 'Logged In', 'Adler', 'M', 1, 'Barrera', Decimal('249'), 'free', 'New York-Newark-Jersey City, NY-NJ-PA', 'PUT', 'NextSong', Decimal('1540835983796'), 248, 'Uno Entre 1000', 200, 1541470383796, '\"Mozilla/5.0 (Macintosh; Intel Mac OS X 10_9_4) AppleWebKit/537.78.2 (KHTML, like Gecko) Version/7.0.6 Safari/537.78.2\"', 100)\n",
      "('Limp Bizkit', 'Logged In', 'Adler', 'M', 2, 'Barrera', Decimal('270'), 'free', 'New York-Newark-Jersey City, NY-NJ-PA', 'PUT', 'NextSong', Decimal('1540835983796'), 248, 'Behind Blue Eyes', 200, 1541470632796, '\"Mozilla/5.0 (Macintosh; Intel Mac OS X 10_9_4) AppleWebKit/537.78.2 (KHTML, like Gecko) Version/7.0.6 Safari/537.78.2\"', 100)\n",
      "(None, 'Logged In', 'Samuel', 'M', 0, 'Gonzalez', None, 'free', 'Houston-The Woodlands-Sugar Land, TX', 'GET', 'Home', Decimal('1540492941796'), 252, None, 200, 1541473967796, '\"Mozilla/5.0 (Macintosh; Intel Mac OS X 10_9_4) AppleWebKit/537.77.4 (KHTML, like Gecko) Version/7.0.5 Safari/537.77.4\"', 61)\n",
      "('Mikel Erentxun', 'Logged In', 'Samuel', 'M', 1, 'Gonzalez', Decimal('178'), 'free', 'Houston-The Woodlands-Sugar Land, TX', 'PUT', 'NextSong', Decimal('1540492941796'), 252, 'Frases Mudas', 200, 1541474048796, '\"Mozilla/5.0 (Macintosh; Intel Mac OS X 10_9_4) AppleWebKit/537.77.4 (KHTML, like Gecko) Version/7.0.5 Safari/537.77.4\"', 61)\n",
      "\n",
      "\n",
      "table: staging_songs\n",
      "number of rows:  14896\n",
      "(1, 'ARPLTRF11E8F5C15C5', None, None, 'United States', 'Lost Immigrants', 'SOWCWAD12AB017FD51', 'Memories & Rust', Decimal('222'), 0)\n",
      "(1, 'AR9F8TH1187B9B5A83', Decimal('34'), Decimal('-118'), 'Los Angeles, CA', 'Love', 'SOICFBC12A6D4FAB31', 'The Castle  (LP Version)', Decimal('180'), 0)\n",
      "(1, 'AR7L5AC1187FB392B4', None, None, '', 'Dayglo Abortions', 'SOHOJYY12A8C13C265', 'Stroke All Day', Decimal('165'), 0)\n",
      "(1, 'ARWRO6T1187B98C5D6', Decimal('35'), Decimal('14'), 'St. Julians, Malta', 'Beangrowers', 'SOQBZDP12AB0180E28', 'Depths Of Bavaria', Decimal('257'), 2008)\n",
      "(1, 'ARZ5CKV1187B9AE71A', Decimal('51'), Decimal('0'), 'London, England', 'The Brand New Heavies', 'SOMXIIW12A6D4F5395', 'Close To You', Decimal('247'), 1994)\n",
      "\n",
      "\n",
      "table: songplays\n",
      "number of rows:  333\n",
      "(12, datetime.datetime(2018, 11, 9, 14, 50, 53), 15, 'paid', 'SOKMBHF12A58A7ACE4', 'ARQEL841187FB52D01', 362, 'Chicago-Naperville-Elgin, IL-IN-WI', '\"Mozilla/5.0 (X11; Linux x86_64) AppleWebKit/537.36 (KHTML, like Gecko) Ubuntu Chromium/36.0.1985.125 Chrome/36.0.1985.125 Safari/537.36\"')\n",
      "(76, datetime.datetime(2018, 11, 26, 13, 47, 35), 40, 'free', 'SOZYHNC12A8C13B9D0', 'AR5Z97E1187FB36169', 874, 'Oxnard-Thousand Oaks-Ventura, CA', '\"Mozilla/5.0 (Macintosh; Intel Mac OS X 10_9_4) AppleWebKit/537.77.4 (KHTML, like Gecko) Version/7.0.5 Safari/537.77.4\"')\n",
      "(140, datetime.datetime(2018, 11, 30, 12, 57, 53), 61, 'free', 'SOJDXQI12AF72A580E', 'AR048JZ1187B9AEB85', 1064, 'Houston-The Woodlands-Sugar Land, TX', '\"Mozilla/5.0 (Macintosh; Intel Mac OS X 10_9_4) AppleWebKit/537.77.4 (KHTML, like Gecko) Version/7.0.5 Safari/537.77.4\"')\n",
      "(204, datetime.datetime(2018, 11, 7, 18, 11, 11), 15, 'paid', 'SODTRKW12A6D4F9A51', 'AR71MIY1187B9BA0C3', 221, 'Chicago-Naperville-Elgin, IL-IN-WI', '\"Mozilla/5.0 (X11; Linux x86_64) AppleWebKit/537.36 (KHTML, like Gecko) Ubuntu Chromium/36.0.1985.125 Chrome/36.0.1985.125 Safari/537.36\"')\n",
      "(268, datetime.datetime(2018, 11, 17, 15, 41, 21), 73, 'paid', 'SONQLSC12AB01816E0', 'ARQFJDL1187B98BF86', 518, 'Tampa-St. Petersburg-Clearwater, FL', '\"Mozilla/5.0 (Macintosh; Intel Mac OS X 10_9_4) AppleWebKit/537.78.2 (KHTML, like Gecko) Version/7.0.6 Safari/537.78.2\"')\n",
      "\n",
      "\n",
      "table: users\n",
      "number of rows:  104\n",
      "(61, 'Samuel', 'Gonzalez', 'M', 'free')\n",
      "(88, 'Mohammad', 'Rodriguez', 'M', 'free')\n",
      "(57, 'Katherine', 'Gay', 'F', 'free')\n",
      "(83, 'Stefany', 'White', 'F', 'free')\n",
      "(44, 'Aleena', 'Kirby', 'F', 'paid')\n",
      "\n",
      "\n",
      "table: songs\n",
      "number of rows:  14896\n",
      "('SOJVXMT12AB0182D42', 'Rajan rauhallisella puolen', 'AR7A3ON1187FB37CE0', 2008, Decimal('122'))\n",
      "('SOCIFXP12A8C13FE67', 'Just One Moment', 'ARP9Z211187B9937F6', 0, Decimal('123'))\n",
      "('SOCOHAX12A8C13B6B2', 'Walking With The Duke (LP Version)', 'ARE5F2F1187B9AB7E9', 1966, Decimal('152'))\n",
      "('SOFUAKY12AB0183422', 'O Nosso Amor A Gente Inventa (Estória Romântica)', 'ART8QJO1187B98CC26', 1987, Decimal('212'))\n",
      "('SOWZOXF12AB017CF70', \"I Feel Like I'm Fixin To\", 'ARYXNP71187FB38034', 0, Decimal('222'))\n",
      "\n",
      "\n",
      "table: artists\n",
      "number of rows:  10025\n",
      "('ARNZPSB1187B9B3CE1', 'NEEDTOBREATHE', 'Charleston, SC', Decimal('32'), Decimal('-79'))\n",
      "('ARMJVLT1187B9AC8DB', \"Me'Shell Ndegeocello\", '', None, None)\n",
      "('ARATR0U1187B9B76D0', 'Dead To Me', 'San Francisco, CA', None, None)\n",
      "('ARJ99Q51187FB45625', 'Sass Jordan', 'Birmingham, England', Decimal('52'), Decimal('-1'))\n",
      "('ARMB0B11187B9AE46C', 'Cocorosie', 'Brooktown, France', Decimal('46'), Decimal('1'))\n",
      "\n",
      "\n",
      "table: time\n",
      "number of rows:  333\n",
      "(40, datetime.datetime(2018, 11, 28, 8, 9, 40), 8, 28, 48, 11, 2018, 3)\n",
      "(104, datetime.datetime(2018, 11, 11, 15, 0, 37), 15, 11, 45, 11, 2018, 0)\n",
      "(168, datetime.datetime(2018, 11, 22, 13, 21, 20), 13, 22, 47, 11, 2018, 4)\n",
      "(232, datetime.datetime(2018, 11, 21, 21, 17, 19), 21, 21, 47, 11, 2018, 3)\n",
      "(296, datetime.datetime(2018, 11, 15, 10, 44, 29), 10, 15, 46, 11, 2018, 4)\n",
      "\n",
      "\n"
     ]
    }
   ],
   "source": [
    "for t in tables:\n",
    "    print('table: {}'.format(t))\n",
    "    query = 'SELECT COUNT(*) from {};'.format(t)\n",
    "    cur.execute(query)\n",
    "    print('number of rows: ', cur.fetchone()[0])\n",
    "    query = 'SELECT * from {} LIMIT 5;'.format(t)\n",
    "    cur.execute(query)\n",
    "    for c in cur.fetchall():\n",
    "        print(c)\n",
    "    \n",
    "    print('\\n')"
   ]
  },
  {
   "cell_type": "markdown",
   "metadata": {
    "editable": true
   },
   "source": [
    "# Some example analytics queries"
   ]
  },
  {
   "cell_type": "markdown",
   "metadata": {
    "editable": true
   },
   "source": [
    "### Get the top 10 most-played songs."
   ]
  },
  {
   "cell_type": "code",
   "execution_count": 7,
   "metadata": {
    "editable": true
   },
   "outputs": [
    {
     "name": "stdout",
     "output_type": "stream",
     "text": [
      "(\"You're The One\", 37)\n",
      "(\"I CAN'T GET STARTED\", 9)\n",
      "('Catch You Baby (Steve Pitron & Max Sanna Radio Edit)', 9)\n",
      "(\"Nothin' On You [feat. Bruno Mars] (Album Version)\", 8)\n",
      "(\"Hey Daddy (Daddy's Home)\", 6)\n",
      "('Make Her Say', 5)\n",
      "('Up Up & Away', 5)\n",
      "('Unwell (Album Version)', 4)\n",
      "('Mr. Jones', 4)\n",
      "('Supermassive Black Hole (Album Version)', 4)\n"
     ]
    }
   ],
   "source": [
    "query = \"\"\"\n",
    "SELECT songs.title, COUNT(songs.title) as play_count\n",
    "FROM songplays\n",
    "JOIN songs\n",
    "ON songplays.song_id = songs.song_id\n",
    "GROUP BY songs.title\n",
    "ORDER BY play_count DESC LIMIT 10;\n",
    "\"\"\"\n",
    "\n",
    "cur.execute(query)\n",
    "for c in cur.fetchall():\n",
    "    print(c)"
   ]
  },
  {
   "cell_type": "markdown",
   "metadata": {
    "editable": true
   },
   "source": [
    "### Get the number of users in different groups (e.g. paid/free)."
   ]
  },
  {
   "cell_type": "code",
   "execution_count": 8,
   "metadata": {
    "editable": true
   },
   "outputs": [
    {
     "name": "stdout",
     "output_type": "stream",
     "text": [
      "('paid', 271)\n",
      "('free', 62)\n"
     ]
    }
   ],
   "source": [
    "query = \"\"\"\n",
    "SELECT level, COUNT(level) level_count\n",
    "FROM songplays\n",
    "GROUP BY level\n",
    "ORDER BY level_count DESC;\n",
    "\"\"\"\n",
    "\n",
    "cur.execute(query)\n",
    "for c in cur.fetchall():\n",
    "    print(c)"
   ]
  },
  {
   "cell_type": "code",
   "execution_count": 9,
   "metadata": {
    "editable": true
   },
   "outputs": [],
   "source": [
    "conn.close()"
   ]
  }
 ],
 "metadata": {
  "kernelspec": {
   "display_name": "Python 3",
   "language": "python",
   "name": "python3"
  },
  "language_info": {
   "codemirror_mode": {
    "name": "ipython",
    "version": 3
   },
   "file_extension": ".py",
   "mimetype": "text/x-python",
   "name": "python",
   "nbconvert_exporter": "python",
   "pygments_lexer": "ipython3",
   "version": "3.6.3"
  }
 },
 "nbformat": 4,
 "nbformat_minor": 4
}
